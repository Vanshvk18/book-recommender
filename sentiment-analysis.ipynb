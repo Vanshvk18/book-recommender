{
 "cells": [
  {
   "cell_type": "code",
   "id": "initial_id",
   "metadata": {
    "collapsed": true,
    "ExecuteTime": {
     "end_time": "2025-08-02T05:25:53.070787Z",
     "start_time": "2025-08-02T05:25:52.963502Z"
    }
   },
   "source": [
    "import pandas as pd\n",
    "\n",
    "books=pd.read_csv('books_new.csv')"
   ],
   "outputs": [],
   "execution_count": 1
  },
  {
   "metadata": {
    "ExecuteTime": {
     "end_time": "2025-08-02T05:29:49.758405Z",
     "start_time": "2025-08-02T05:29:48.216928Z"
    }
   },
   "cell_type": "code",
   "source": [
    "from transformers import pipeline\n",
    "classifier = pipeline(\"text-classification\", model=\"j-hartmann/emotion-english-distilroberta-base\", top_k=None,device='cpu')\n",
    "\n"
   ],
   "id": "414d4900a0287162",
   "outputs": [
    {
     "name": "stderr",
     "output_type": "stream",
     "text": [
      "Device set to use cpu\n"
     ]
    }
   ],
   "execution_count": 5
  },
  {
   "metadata": {
    "ExecuteTime": {
     "end_time": "2025-08-02T05:33:07.635563Z",
     "start_time": "2025-08-02T05:33:07.607301Z"
    }
   },
   "cell_type": "code",
   "source": "books[\"description\"][0]",
   "id": "6ac79ddb82c4081e",
   "outputs": [
    {
     "data": {
      "text/plain": [
       "'A NOVEL THAT READERS and critics have been eagerly anticipating for over a decade, Gilead is an astonishingly imagined story of remarkable lives. John Ames is a preacher, the son of a preacher and the grandson (both maternal and paternal) of preachers. It’s 1956 in Gilead, Iowa, towards the end of the Reverend Ames’s life, and he is absorbed in recording his family’s story, a legacy for the young son he will never see grow up. Haunted by his grandfather’s presence, John tells of the rift between his grandfather and his father: the elder, an angry visionary who fought for the abolitionist cause, and his son, an ardent pacifist. He is troubled, too, by his prodigal namesake, Jack (John Ames) Boughton, his best friend’s lost son who returns to Gilead searching for forgiveness and redemption. Told in John Ames’s joyous, rambling voice that finds beauty, humour and truth in the smallest of life’s details, Gilead is a song of celebration and acceptance of the best and the worst the world has to offer. At its heart is a tale of the sacred bonds between fathers and sons, pitch-perfect in style and story, set to dazzle critics and readers alike.'"
      ]
     },
     "execution_count": 6,
     "metadata": {},
     "output_type": "execute_result"
    }
   ],
   "execution_count": 6
  },
  {
   "metadata": {
    "ExecuteTime": {
     "end_time": "2025-08-02T06:09:39.878274Z",
     "start_time": "2025-08-02T06:09:39.715194Z"
    }
   },
   "cell_type": "code",
   "source": [
    "import numpy as np\n",
    "emotion_labels=[\"anger\",\"disgust\",\"fear\",\"joy\",\"sadness\",\"surprise\",\"neutral\"]\n",
    "isbn=[]\n",
    "emotion_scores={label:[] for label in emotion_labels}\n",
    "\n",
    "def calculate_max_emotion_scores(predictions):\n",
    "    per_emotion_scores={label:[] for label in emotion_labels}\n",
    "    for prediction in predictions:\n",
    "        sorted_predictions = sorted(prediction,key=lambda x:x[\"label\"])\n",
    "        for index, label in enumerate(emotion_labels):\n",
    "            per_emotion_scores[label].append(sorted_predictions[index][\"score\"])\n",
    "    return{label:np.max(scores) for label, scores in per_emotion_scores.items()}"
   ],
   "id": "a85ea1f5e9f45701",
   "outputs": [],
   "execution_count": 7
  },
  {
   "metadata": {
    "ExecuteTime": {
     "end_time": "2025-08-02T09:11:43.813346Z",
     "start_time": "2025-08-02T08:31:30.564439Z"
    }
   },
   "cell_type": "code",
   "source": [
    "from tqdm import tqdm\n",
    "emotion_labels=[\"anger\",\"disgust\",\"fear\",\"joy\",\"sadness\",\"surprise\",\"neutral\"]\n",
    "isbn=[]\n",
    "emotion_scores={label:[] for label in emotion_labels}\n",
    "for i in tqdm(range(len(books))):\n",
    "    isbn.append(books[\"isbn13\"][i])\n",
    "    sentence = books[\"description\"][i].split(\".\")\n",
    "    predictions = classifier(sentence)\n",
    "    max_scores=calculate_max_emotion_scores(predictions)\n",
    "    for label in emotion_labels:\n",
    "        emotion_scores[label].append(max_scores[label])\n"
   ],
   "id": "24d061ed0055f3b6",
   "outputs": [
    {
     "name": "stderr",
     "output_type": "stream",
     "text": [
      "  0%|          | 0/5197 [00:00<?, ?it/s]"
     ]
    },
    {
     "name": "stdout",
     "output_type": "stream",
     "text": [
      "ERROR! Session/line number was not unique in database. History logging moved to new session 84\n"
     ]
    },
    {
     "name": "stderr",
     "output_type": "stream",
     "text": [
      "100%|██████████| 5197/5197 [40:13<00:00,  2.15it/s]  \n"
     ]
    }
   ],
   "execution_count": 10
  },
  {
   "metadata": {
    "ExecuteTime": {
     "end_time": "2025-08-02T09:13:39.068145Z",
     "start_time": "2025-08-02T09:13:38.998831Z"
    }
   },
   "cell_type": "code",
   "source": [
    "emotion_df=pd.DataFrame(emotion_scores)\n",
    "emotion_df[\"isbn13\"]=isbn"
   ],
   "id": "ffb5c42b25d7b4bb",
   "outputs": [],
   "execution_count": 11
  },
  {
   "metadata": {
    "ExecuteTime": {
     "end_time": "2025-08-02T09:15:27.363192Z",
     "start_time": "2025-08-02T09:15:27.197238Z"
    }
   },
   "cell_type": "code",
   "source": "books=pd.merge(books,emotion_df,on=\"isbn13\")",
   "id": "6d8176bcb20fde6c",
   "outputs": [],
   "execution_count": 13
  },
  {
   "metadata": {
    "ExecuteTime": {
     "end_time": "2025-08-02T09:17:50.542200Z",
     "start_time": "2025-08-02T09:17:50.300551Z"
    }
   },
   "cell_type": "code",
   "source": "books.to_csv('books_new.csv',index=False)",
   "id": "3fa6f51347067df0",
   "outputs": [],
   "execution_count": 15
  }
 ],
 "metadata": {
  "kernelspec": {
   "display_name": "Python 3",
   "language": "python",
   "name": "python3"
  },
  "language_info": {
   "codemirror_mode": {
    "name": "ipython",
    "version": 2
   },
   "file_extension": ".py",
   "mimetype": "text/x-python",
   "name": "python",
   "nbconvert_exporter": "python",
   "pygments_lexer": "ipython2",
   "version": "2.7.6"
  }
 },
 "nbformat": 4,
 "nbformat_minor": 5
}
